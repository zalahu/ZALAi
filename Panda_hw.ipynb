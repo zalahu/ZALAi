{
  "nbformat": 4,
  "nbformat_minor": 0,
  "metadata": {
    "colab": {
      "provenance": [],
      "authorship_tag": "ABX9TyPC/hzOIRnqq4cevUAFu37I",
      "include_colab_link": true
    },
    "kernelspec": {
      "name": "python3",
      "display_name": "Python 3"
    },
    "language_info": {
      "name": "python"
    }
  },
  "cells": [
    {
      "cell_type": "markdown",
      "metadata": {
        "id": "view-in-github",
        "colab_type": "text"
      },
      "source": [
        "<a href=\"https://colab.research.google.com/github/zalahu/ZALAi/blob/main/Panda_hw.ipynb\" target=\"_parent\"><img src=\"https://colab.research.google.com/assets/colab-badge.svg\" alt=\"Open In Colab\"/></a>"
      ]
    },
    {
      "cell_type": "markdown",
      "source": [
        "** Task-1Creating a dataset of Movies with list of 10 and load to Dataframe**"
      ],
      "metadata": {
        "id": "6PAhrb1p6KsP"
      }
    },
    {
      "cell_type": "code",
      "source": [
        "!pip install pandas as pd\n",
        "!pip install numpy as np"
      ],
      "metadata": {
        "id": "PoB60_Q_8_Tu"
      },
      "execution_count": null,
      "outputs": []
    },
    {
      "cell_type": "code",
      "execution_count": 50,
      "metadata": {
        "id": "JQWSxX7I2Xc3",
        "outputId": "5b14b6a4-7ba9-4935-ba3b-86ef61918d4c",
        "colab": {
          "base_uri": "https://localhost:8080/",
          "height": 450
        }
      },
      "outputs": [
        {
          "output_type": "execute_result",
          "data": {
            "text/plain": [
              "      Title  Release Year      Genre  Runtime (minutes)  \\\n",
              "0   Movie 1        2001.0     Action                120   \n",
              "1   Movie 2        2002.0    Fiction                130   \n",
              "2   Movie 3        2003.0     Comedy                110   \n",
              "3   Movie 4        2004.0      Drama                140   \n",
              "4   Movie 5           NaN   Thriller                125   \n",
              "5   Movie 6        2016.0     Sci-Fi                135   \n",
              "6   Movie 7        2017.0     Horror                115   \n",
              "7   Movie 8        2018.0    Romance                130   \n",
              "8   Movie 9        2019.0  Adventure                120   \n",
              "9  Movie 10        2020.0    Fantasy                140   \n",
              "\n",
              "   Budget (millions USD)  Box Office (millions USD)           Director  \\\n",
              "0                     21                         31         Director 1   \n",
              "1                     31                         41         Director 2   \n",
              "2                     15                         25         Director 3   \n",
              "3                     40                         60   Steven Spielberg   \n",
              "4                     28                         38         Director 5   \n",
              "5                     35                        145         Director 6   \n",
              "6                     20                         30         Director 7   \n",
              "7                     30                         40  Christopher Nolan   \n",
              "8                     25                         35  Christopher Nolan   \n",
              "9                     45                         65        Director 10   \n",
              "\n",
              "   Rating (out of 10)    Country  \n",
              "0                   1      India  \n",
              "1                   1      India  \n",
              "2                   2        USA  \n",
              "3                   3         UK  \n",
              "4                   4     Canada  \n",
              "5                   5  Australia  \n",
              "6                   6    Germany  \n",
              "7                   7     France  \n",
              "8                   8      Japan  \n",
              "9                   9      China  "
            ],
            "text/html": [
              "\n",
              "  <div id=\"df-32b7f897-a1ac-406a-ae4a-5d0744fb45ab\" class=\"colab-df-container\">\n",
              "    <div>\n",
              "<style scoped>\n",
              "    .dataframe tbody tr th:only-of-type {\n",
              "        vertical-align: middle;\n",
              "    }\n",
              "\n",
              "    .dataframe tbody tr th {\n",
              "        vertical-align: top;\n",
              "    }\n",
              "\n",
              "    .dataframe thead th {\n",
              "        text-align: right;\n",
              "    }\n",
              "</style>\n",
              "<table border=\"1\" class=\"dataframe\">\n",
              "  <thead>\n",
              "    <tr style=\"text-align: right;\">\n",
              "      <th></th>\n",
              "      <th>Title</th>\n",
              "      <th>Release Year</th>\n",
              "      <th>Genre</th>\n",
              "      <th>Runtime (minutes)</th>\n",
              "      <th>Budget (millions USD)</th>\n",
              "      <th>Box Office (millions USD)</th>\n",
              "      <th>Director</th>\n",
              "      <th>Rating (out of 10)</th>\n",
              "      <th>Country</th>\n",
              "    </tr>\n",
              "  </thead>\n",
              "  <tbody>\n",
              "    <tr>\n",
              "      <th>0</th>\n",
              "      <td>Movie 1</td>\n",
              "      <td>2001.0</td>\n",
              "      <td>Action</td>\n",
              "      <td>120</td>\n",
              "      <td>21</td>\n",
              "      <td>31</td>\n",
              "      <td>Director 1</td>\n",
              "      <td>1</td>\n",
              "      <td>India</td>\n",
              "    </tr>\n",
              "    <tr>\n",
              "      <th>1</th>\n",
              "      <td>Movie 2</td>\n",
              "      <td>2002.0</td>\n",
              "      <td>Fiction</td>\n",
              "      <td>130</td>\n",
              "      <td>31</td>\n",
              "      <td>41</td>\n",
              "      <td>Director 2</td>\n",
              "      <td>1</td>\n",
              "      <td>India</td>\n",
              "    </tr>\n",
              "    <tr>\n",
              "      <th>2</th>\n",
              "      <td>Movie 3</td>\n",
              "      <td>2003.0</td>\n",
              "      <td>Comedy</td>\n",
              "      <td>110</td>\n",
              "      <td>15</td>\n",
              "      <td>25</td>\n",
              "      <td>Director 3</td>\n",
              "      <td>2</td>\n",
              "      <td>USA</td>\n",
              "    </tr>\n",
              "    <tr>\n",
              "      <th>3</th>\n",
              "      <td>Movie 4</td>\n",
              "      <td>2004.0</td>\n",
              "      <td>Drama</td>\n",
              "      <td>140</td>\n",
              "      <td>40</td>\n",
              "      <td>60</td>\n",
              "      <td>Steven Spielberg</td>\n",
              "      <td>3</td>\n",
              "      <td>UK</td>\n",
              "    </tr>\n",
              "    <tr>\n",
              "      <th>4</th>\n",
              "      <td>Movie 5</td>\n",
              "      <td>NaN</td>\n",
              "      <td>Thriller</td>\n",
              "      <td>125</td>\n",
              "      <td>28</td>\n",
              "      <td>38</td>\n",
              "      <td>Director 5</td>\n",
              "      <td>4</td>\n",
              "      <td>Canada</td>\n",
              "    </tr>\n",
              "    <tr>\n",
              "      <th>5</th>\n",
              "      <td>Movie 6</td>\n",
              "      <td>2016.0</td>\n",
              "      <td>Sci-Fi</td>\n",
              "      <td>135</td>\n",
              "      <td>35</td>\n",
              "      <td>145</td>\n",
              "      <td>Director 6</td>\n",
              "      <td>5</td>\n",
              "      <td>Australia</td>\n",
              "    </tr>\n",
              "    <tr>\n",
              "      <th>6</th>\n",
              "      <td>Movie 7</td>\n",
              "      <td>2017.0</td>\n",
              "      <td>Horror</td>\n",
              "      <td>115</td>\n",
              "      <td>20</td>\n",
              "      <td>30</td>\n",
              "      <td>Director 7</td>\n",
              "      <td>6</td>\n",
              "      <td>Germany</td>\n",
              "    </tr>\n",
              "    <tr>\n",
              "      <th>7</th>\n",
              "      <td>Movie 8</td>\n",
              "      <td>2018.0</td>\n",
              "      <td>Romance</td>\n",
              "      <td>130</td>\n",
              "      <td>30</td>\n",
              "      <td>40</td>\n",
              "      <td>Christopher Nolan</td>\n",
              "      <td>7</td>\n",
              "      <td>France</td>\n",
              "    </tr>\n",
              "    <tr>\n",
              "      <th>8</th>\n",
              "      <td>Movie 9</td>\n",
              "      <td>2019.0</td>\n",
              "      <td>Adventure</td>\n",
              "      <td>120</td>\n",
              "      <td>25</td>\n",
              "      <td>35</td>\n",
              "      <td>Christopher Nolan</td>\n",
              "      <td>8</td>\n",
              "      <td>Japan</td>\n",
              "    </tr>\n",
              "    <tr>\n",
              "      <th>9</th>\n",
              "      <td>Movie 10</td>\n",
              "      <td>2020.0</td>\n",
              "      <td>Fantasy</td>\n",
              "      <td>140</td>\n",
              "      <td>45</td>\n",
              "      <td>65</td>\n",
              "      <td>Director 10</td>\n",
              "      <td>9</td>\n",
              "      <td>China</td>\n",
              "    </tr>\n",
              "  </tbody>\n",
              "</table>\n",
              "</div>\n",
              "    <div class=\"colab-df-buttons\">\n",
              "\n",
              "  <div class=\"colab-df-container\">\n",
              "    <button class=\"colab-df-convert\" onclick=\"convertToInteractive('df-32b7f897-a1ac-406a-ae4a-5d0744fb45ab')\"\n",
              "            title=\"Convert this dataframe to an interactive table.\"\n",
              "            style=\"display:none;\">\n",
              "\n",
              "  <svg xmlns=\"http://www.w3.org/2000/svg\" height=\"24px\" viewBox=\"0 -960 960 960\">\n",
              "    <path d=\"M120-120v-720h720v720H120Zm60-500h600v-160H180v160Zm220 220h160v-160H400v160Zm0 220h160v-160H400v160ZM180-400h160v-160H180v160Zm440 0h160v-160H620v160ZM180-180h160v-160H180v160Zm440 0h160v-160H620v160Z\"/>\n",
              "  </svg>\n",
              "    </button>\n",
              "\n",
              "  <style>\n",
              "    .colab-df-container {\n",
              "      display:flex;\n",
              "      gap: 12px;\n",
              "    }\n",
              "\n",
              "    .colab-df-convert {\n",
              "      background-color: #E8F0FE;\n",
              "      border: none;\n",
              "      border-radius: 50%;\n",
              "      cursor: pointer;\n",
              "      display: none;\n",
              "      fill: #1967D2;\n",
              "      height: 32px;\n",
              "      padding: 0 0 0 0;\n",
              "      width: 32px;\n",
              "    }\n",
              "\n",
              "    .colab-df-convert:hover {\n",
              "      background-color: #E2EBFA;\n",
              "      box-shadow: 0px 1px 2px rgba(60, 64, 67, 0.3), 0px 1px 3px 1px rgba(60, 64, 67, 0.15);\n",
              "      fill: #174EA6;\n",
              "    }\n",
              "\n",
              "    .colab-df-buttons div {\n",
              "      margin-bottom: 4px;\n",
              "    }\n",
              "\n",
              "    [theme=dark] .colab-df-convert {\n",
              "      background-color: #3B4455;\n",
              "      fill: #D2E3FC;\n",
              "    }\n",
              "\n",
              "    [theme=dark] .colab-df-convert:hover {\n",
              "      background-color: #434B5C;\n",
              "      box-shadow: 0px 1px 3px 1px rgba(0, 0, 0, 0.15);\n",
              "      filter: drop-shadow(0px 1px 2px rgba(0, 0, 0, 0.3));\n",
              "      fill: #FFFFFF;\n",
              "    }\n",
              "  </style>\n",
              "\n",
              "    <script>\n",
              "      const buttonEl =\n",
              "        document.querySelector('#df-32b7f897-a1ac-406a-ae4a-5d0744fb45ab button.colab-df-convert');\n",
              "      buttonEl.style.display =\n",
              "        google.colab.kernel.accessAllowed ? 'block' : 'none';\n",
              "\n",
              "      async function convertToInteractive(key) {\n",
              "        const element = document.querySelector('#df-32b7f897-a1ac-406a-ae4a-5d0744fb45ab');\n",
              "        const dataTable =\n",
              "          await google.colab.kernel.invokeFunction('convertToInteractive',\n",
              "                                                    [key], {});\n",
              "        if (!dataTable) return;\n",
              "\n",
              "        const docLinkHtml = 'Like what you see? Visit the ' +\n",
              "          '<a target=\"_blank\" href=https://colab.research.google.com/notebooks/data_table.ipynb>data table notebook</a>'\n",
              "          + ' to learn more about interactive tables.';\n",
              "        element.innerHTML = '';\n",
              "        dataTable['output_type'] = 'display_data';\n",
              "        await google.colab.output.renderOutput(dataTable, element);\n",
              "        const docLink = document.createElement('div');\n",
              "        docLink.innerHTML = docLinkHtml;\n",
              "        element.appendChild(docLink);\n",
              "      }\n",
              "    </script>\n",
              "  </div>\n",
              "\n",
              "\n",
              "    <div id=\"df-f6995429-be20-4d94-b3f4-13f194d66e32\">\n",
              "      <button class=\"colab-df-quickchart\" onclick=\"quickchart('df-f6995429-be20-4d94-b3f4-13f194d66e32')\"\n",
              "                title=\"Suggest charts\"\n",
              "                style=\"display:none;\">\n",
              "\n",
              "<svg xmlns=\"http://www.w3.org/2000/svg\" height=\"24px\"viewBox=\"0 0 24 24\"\n",
              "     width=\"24px\">\n",
              "    <g>\n",
              "        <path d=\"M19 3H5c-1.1 0-2 .9-2 2v14c0 1.1.9 2 2 2h14c1.1 0 2-.9 2-2V5c0-1.1-.9-2-2-2zM9 17H7v-7h2v7zm4 0h-2V7h2v10zm4 0h-2v-4h2v4z\"/>\n",
              "    </g>\n",
              "</svg>\n",
              "      </button>\n",
              "\n",
              "<style>\n",
              "  .colab-df-quickchart {\n",
              "      --bg-color: #E8F0FE;\n",
              "      --fill-color: #1967D2;\n",
              "      --hover-bg-color: #E2EBFA;\n",
              "      --hover-fill-color: #174EA6;\n",
              "      --disabled-fill-color: #AAA;\n",
              "      --disabled-bg-color: #DDD;\n",
              "  }\n",
              "\n",
              "  [theme=dark] .colab-df-quickchart {\n",
              "      --bg-color: #3B4455;\n",
              "      --fill-color: #D2E3FC;\n",
              "      --hover-bg-color: #434B5C;\n",
              "      --hover-fill-color: #FFFFFF;\n",
              "      --disabled-bg-color: #3B4455;\n",
              "      --disabled-fill-color: #666;\n",
              "  }\n",
              "\n",
              "  .colab-df-quickchart {\n",
              "    background-color: var(--bg-color);\n",
              "    border: none;\n",
              "    border-radius: 50%;\n",
              "    cursor: pointer;\n",
              "    display: none;\n",
              "    fill: var(--fill-color);\n",
              "    height: 32px;\n",
              "    padding: 0;\n",
              "    width: 32px;\n",
              "  }\n",
              "\n",
              "  .colab-df-quickchart:hover {\n",
              "    background-color: var(--hover-bg-color);\n",
              "    box-shadow: 0 1px 2px rgba(60, 64, 67, 0.3), 0 1px 3px 1px rgba(60, 64, 67, 0.15);\n",
              "    fill: var(--button-hover-fill-color);\n",
              "  }\n",
              "\n",
              "  .colab-df-quickchart-complete:disabled,\n",
              "  .colab-df-quickchart-complete:disabled:hover {\n",
              "    background-color: var(--disabled-bg-color);\n",
              "    fill: var(--disabled-fill-color);\n",
              "    box-shadow: none;\n",
              "  }\n",
              "\n",
              "  .colab-df-spinner {\n",
              "    border: 2px solid var(--fill-color);\n",
              "    border-color: transparent;\n",
              "    border-bottom-color: var(--fill-color);\n",
              "    animation:\n",
              "      spin 1s steps(1) infinite;\n",
              "  }\n",
              "\n",
              "  @keyframes spin {\n",
              "    0% {\n",
              "      border-color: transparent;\n",
              "      border-bottom-color: var(--fill-color);\n",
              "      border-left-color: var(--fill-color);\n",
              "    }\n",
              "    20% {\n",
              "      border-color: transparent;\n",
              "      border-left-color: var(--fill-color);\n",
              "      border-top-color: var(--fill-color);\n",
              "    }\n",
              "    30% {\n",
              "      border-color: transparent;\n",
              "      border-left-color: var(--fill-color);\n",
              "      border-top-color: var(--fill-color);\n",
              "      border-right-color: var(--fill-color);\n",
              "    }\n",
              "    40% {\n",
              "      border-color: transparent;\n",
              "      border-right-color: var(--fill-color);\n",
              "      border-top-color: var(--fill-color);\n",
              "    }\n",
              "    60% {\n",
              "      border-color: transparent;\n",
              "      border-right-color: var(--fill-color);\n",
              "    }\n",
              "    80% {\n",
              "      border-color: transparent;\n",
              "      border-right-color: var(--fill-color);\n",
              "      border-bottom-color: var(--fill-color);\n",
              "    }\n",
              "    90% {\n",
              "      border-color: transparent;\n",
              "      border-bottom-color: var(--fill-color);\n",
              "    }\n",
              "  }\n",
              "</style>\n",
              "\n",
              "      <script>\n",
              "        async function quickchart(key) {\n",
              "          const quickchartButtonEl =\n",
              "            document.querySelector('#' + key + ' button');\n",
              "          quickchartButtonEl.disabled = true;  // To prevent multiple clicks.\n",
              "          quickchartButtonEl.classList.add('colab-df-spinner');\n",
              "          try {\n",
              "            const charts = await google.colab.kernel.invokeFunction(\n",
              "                'suggestCharts', [key], {});\n",
              "          } catch (error) {\n",
              "            console.error('Error during call to suggestCharts:', error);\n",
              "          }\n",
              "          quickchartButtonEl.classList.remove('colab-df-spinner');\n",
              "          quickchartButtonEl.classList.add('colab-df-quickchart-complete');\n",
              "        }\n",
              "        (() => {\n",
              "          let quickchartButtonEl =\n",
              "            document.querySelector('#df-f6995429-be20-4d94-b3f4-13f194d66e32 button');\n",
              "          quickchartButtonEl.style.display =\n",
              "            google.colab.kernel.accessAllowed ? 'block' : 'none';\n",
              "        })();\n",
              "      </script>\n",
              "    </div>\n",
              "\n",
              "  <div id=\"id_b02be869-ea08-48a5-abf0-cacebe9f534b\">\n",
              "    <style>\n",
              "      .colab-df-generate {\n",
              "        background-color: #E8F0FE;\n",
              "        border: none;\n",
              "        border-radius: 50%;\n",
              "        cursor: pointer;\n",
              "        display: none;\n",
              "        fill: #1967D2;\n",
              "        height: 32px;\n",
              "        padding: 0 0 0 0;\n",
              "        width: 32px;\n",
              "      }\n",
              "\n",
              "      .colab-df-generate:hover {\n",
              "        background-color: #E2EBFA;\n",
              "        box-shadow: 0px 1px 2px rgba(60, 64, 67, 0.3), 0px 1px 3px 1px rgba(60, 64, 67, 0.15);\n",
              "        fill: #174EA6;\n",
              "      }\n",
              "\n",
              "      [theme=dark] .colab-df-generate {\n",
              "        background-color: #3B4455;\n",
              "        fill: #D2E3FC;\n",
              "      }\n",
              "\n",
              "      [theme=dark] .colab-df-generate:hover {\n",
              "        background-color: #434B5C;\n",
              "        box-shadow: 0px 1px 3px 1px rgba(0, 0, 0, 0.15);\n",
              "        filter: drop-shadow(0px 1px 2px rgba(0, 0, 0, 0.3));\n",
              "        fill: #FFFFFF;\n",
              "      }\n",
              "    </style>\n",
              "    <button class=\"colab-df-generate\" onclick=\"generateWithVariable('df')\"\n",
              "            title=\"Generate code using this dataframe.\"\n",
              "            style=\"display:none;\">\n",
              "\n",
              "  <svg xmlns=\"http://www.w3.org/2000/svg\" height=\"24px\"viewBox=\"0 0 24 24\"\n",
              "       width=\"24px\">\n",
              "    <path d=\"M7,19H8.4L18.45,9,17,7.55,7,17.6ZM5,21V16.75L18.45,3.32a2,2,0,0,1,2.83,0l1.4,1.43a1.91,1.91,0,0,1,.58,1.4,1.91,1.91,0,0,1-.58,1.4L9.25,21ZM18.45,9,17,7.55Zm-12,3A5.31,5.31,0,0,0,4.9,8.1,5.31,5.31,0,0,0,1,6.5,5.31,5.31,0,0,0,4.9,4.9,5.31,5.31,0,0,0,6.5,1,5.31,5.31,0,0,0,8.1,4.9,5.31,5.31,0,0,0,12,6.5,5.46,5.46,0,0,0,6.5,12Z\"/>\n",
              "  </svg>\n",
              "    </button>\n",
              "    <script>\n",
              "      (() => {\n",
              "      const buttonEl =\n",
              "        document.querySelector('#id_b02be869-ea08-48a5-abf0-cacebe9f534b button.colab-df-generate');\n",
              "      buttonEl.style.display =\n",
              "        google.colab.kernel.accessAllowed ? 'block' : 'none';\n",
              "\n",
              "      buttonEl.onclick = () => {\n",
              "        google.colab.notebook.generateWithVariable('df');\n",
              "      }\n",
              "      })();\n",
              "    </script>\n",
              "  </div>\n",
              "\n",
              "    </div>\n",
              "  </div>\n"
            ],
            "application/vnd.google.colaboratory.intrinsic+json": {
              "type": "dataframe",
              "variable_name": "df",
              "summary": "{\n  \"name\": \"df\",\n  \"rows\": 10,\n  \"fields\": [\n    {\n      \"column\": \"Title\",\n      \"properties\": {\n        \"dtype\": \"string\",\n        \"num_unique_values\": 10,\n        \"samples\": [\n          \"Movie 9\",\n          \"Movie 2\",\n          \"Movie 6\"\n        ],\n        \"semantic_type\": \"\",\n        \"description\": \"\"\n      }\n    },\n    {\n      \"column\": \"Release Year\",\n      \"properties\": {\n        \"dtype\": \"number\",\n        \"std\": 8.283182426526118,\n        \"min\": 2001.0,\n        \"max\": 2020.0,\n        \"num_unique_values\": 9,\n        \"samples\": [\n          2019.0,\n          2002.0,\n          2017.0\n        ],\n        \"semantic_type\": \"\",\n        \"description\": \"\"\n      }\n    },\n    {\n      \"column\": \"Genre\",\n      \"properties\": {\n        \"dtype\": \"string\",\n        \"num_unique_values\": 10,\n        \"samples\": [\n          \"Adventure\",\n          \"Fiction\",\n          \"Sci-Fi\"\n        ],\n        \"semantic_type\": \"\",\n        \"description\": \"\"\n      }\n    },\n    {\n      \"column\": \"Runtime (minutes)\",\n      \"properties\": {\n        \"dtype\": \"number\",\n        \"std\": 10,\n        \"min\": 110,\n        \"max\": 140,\n        \"num_unique_values\": 7,\n        \"samples\": [\n          120,\n          130,\n          135\n        ],\n        \"semantic_type\": \"\",\n        \"description\": \"\"\n      }\n    },\n    {\n      \"column\": \"Budget (millions USD)\",\n      \"properties\": {\n        \"dtype\": \"number\",\n        \"std\": 9,\n        \"min\": 15,\n        \"max\": 45,\n        \"num_unique_values\": 10,\n        \"samples\": [\n          25,\n          31,\n          35\n        ],\n        \"semantic_type\": \"\",\n        \"description\": \"\"\n      }\n    },\n    {\n      \"column\": \"Box Office (millions USD)\",\n      \"properties\": {\n        \"dtype\": \"number\",\n        \"std\": 35,\n        \"min\": 25,\n        \"max\": 145,\n        \"num_unique_values\": 10,\n        \"samples\": [\n          35,\n          41,\n          145\n        ],\n        \"semantic_type\": \"\",\n        \"description\": \"\"\n      }\n    },\n    {\n      \"column\": \"Director\",\n      \"properties\": {\n        \"dtype\": \"string\",\n        \"num_unique_values\": 9,\n        \"samples\": [\n          \"Christopher Nolan\",\n          \"Director 2\",\n          \"Director 6\"\n        ],\n        \"semantic_type\": \"\",\n        \"description\": \"\"\n      }\n    },\n    {\n      \"column\": \"Rating (out of 10)\",\n      \"properties\": {\n        \"dtype\": \"number\",\n        \"std\": 2,\n        \"min\": 1,\n        \"max\": 9,\n        \"num_unique_values\": 9,\n        \"samples\": [\n          8,\n          2,\n          6\n        ],\n        \"semantic_type\": \"\",\n        \"description\": \"\"\n      }\n    },\n    {\n      \"column\": \"Country\",\n      \"properties\": {\n        \"dtype\": \"string\",\n        \"num_unique_values\": 9,\n        \"samples\": [\n          \"Japan\",\n          \"USA\",\n          \"Germany\"\n        ],\n        \"semantic_type\": \"\",\n        \"description\": \"\"\n      }\n    }\n  ]\n}"
            }
          },
          "metadata": {},
          "execution_count": 50
        }
      ],
      "source": [
        "import pandas as pd\n",
        "import numpy as np\n",
        "\n",
        "# Define the movie data directly as a list of dictionaries\n",
        "movies = [\n",
        "    {'Title': 'Movie 1', 'Release Year': 2001, 'Genre': 'Action', 'Runtime (minutes)': 87, 'Budget (millions USD)': 21, 'Box Office (millions USD)': 31, 'Director': 'Director 1', 'Rating (out of 10)': 1, 'Country': 'India'},\n",
        "    {'Title': 'Movie 2', 'Release Year': 2002, 'Genre': 'Fiction', 'Runtime (minutes)': 130, 'Budget (millions USD)': 31, 'Box Office (millions USD)': 41, 'Director': 'Director 2', 'Rating (out of 10)': 1, 'Country': 'India'},\n",
        "    {'Title': 'Movie 3', 'Release Year': 2003, 'Genre': 'Comedy', 'Runtime (minutes)': 110, 'Budget (millions USD)': 15, 'Box Office (millions USD)': 25, 'Director': 'Director 3', 'Rating (out of 10)': 2, 'Country': 'USA'},\n",
        "    {'Title': 'Movie 4', 'Release Year': 2004, 'Genre': 'Drama', 'Runtime (minutes)': 140, 'Budget (millions USD)': 40, 'Box Office (millions USD)': 60, 'Director': 'Steven Spielberg', 'Rating (out of 10)': 3, 'Country': 'UK'},\n",
        "    {'Title': 'Movie 5', 'Release Year': None, 'Genre': 'Thriller', 'Runtime (minutes)': 125, 'Budget (millions USD)': 28, 'Box Office (millions USD)': 38, 'Director': 'Director 5', 'Rating (out of 10)': 4, 'Country': 'Canada'},\n",
        "    {'Title': 'Movie 6', 'Release Year': 2016, 'Genre': 'Sci-Fi', 'Runtime (minutes)': 88, 'Budget (millions USD)': 35, 'Box Office (millions USD)': 145, 'Director': 'Director 6', 'Rating (out of 10)': 5, 'Country': 'Australia'},\n",
        "    {'Title': 'Movie 7', 'Release Year': 2017, 'Genre': 'Horror', 'Runtime (minutes)': 115, 'Budget (millions USD)': 20, 'Box Office (millions USD)': 30, 'Director': 'Director 7', 'Rating (out of 10)': 6, 'Country': 'Germany'},\n",
        "    {'Title': 'Movie 8', 'Release Year': 2018, 'Genre': 'Romance', 'Runtime (minutes)': 130, 'Budget (millions USD)': 30, 'Box Office (millions USD)': 40, 'Director': 'Christopher Nolan', 'Rating (out of 10)': 7, 'Country': 'France'},\n",
        "    {'Title': 'Movie 9', 'Release Year': 2019, 'Genre': 'Adventure', 'Runtime (minutes)': 120, 'Budget (millions USD)': 25, 'Box Office (millions USD)': 35, 'Director': 'Christopher Nolan', 'Rating (out of 10)': 8, 'Country': 'Japan'},\n",
        "    {'Title': 'Movie 10', 'Release Year': 2020, 'Genre': 'Fantasy', 'Runtime (minutes)': 140, 'Budget (millions USD)': 45, 'Box Office (millions USD)': 65, 'Director': 'Director 10', 'Rating (out of 10)': 9, 'Country': 'China'}\n",
        "]\n",
        "# Create the DataFrame directly from the list of dictionaries\n",
        "df = pd.DataFrame(movies)\n",
        "#printing the dataframe\n",
        "df\n"
      ]
    },
    {
      "cell_type": "markdown",
      "source": [
        "Task1.2 Display the first 5 rows of the DataFrame."
      ],
      "metadata": {
        "id": "oeo4e_8aAe7v"
      }
    },
    {
      "cell_type": "code",
      "source": [
        "#df.head() gives by default first 5 rows..for other rows use df.head(n)\n",
        "df.head()\n"
      ],
      "metadata": {
        "id": "2H19AbXQAeUQ"
      },
      "execution_count": null,
      "outputs": []
    },
    {
      "cell_type": "markdown",
      "source": [
        "Task 1.3 Show the shape of the DataFrame (rows and columns)."
      ],
      "metadata": {
        "id": "J6mkYVJhBYGO"
      }
    },
    {
      "cell_type": "code",
      "source": [
        "#shape will show the shape with number of rows and columns\n",
        "df.shape"
      ],
      "metadata": {
        "id": "kvskKMF4BfNu"
      },
      "execution_count": null,
      "outputs": []
    },
    {
      "cell_type": "markdown",
      "source": [
        "Task1.4 Generate basic descriptive statistics for the numerical columns."
      ],
      "metadata": {
        "id": "Jz8Y-jFkB2g0"
      }
    },
    {
      "cell_type": "code",
      "source": [
        "# Use the describe() method to generate descriptive statistics for numerical columns\n",
        "df.describe()"
      ],
      "metadata": {
        "id": "3xd7X9twB58t"
      },
      "execution_count": null,
      "outputs": []
    },
    {
      "cell_type": "code",
      "source": [
        "df.count() # to display the count of rows and columns numerical data"
      ],
      "metadata": {
        "id": "G1EDFAZgCN19"
      },
      "execution_count": null,
      "outputs": []
    },
    {
      "cell_type": "code",
      "source": [
        "df.mean(numeric_only=True) # to display the mean of numerical data\n"
      ],
      "metadata": {
        "id": "4hsD_liwCwTt"
      },
      "execution_count": null,
      "outputs": []
    },
    {
      "cell_type": "code",
      "source": [
        "# Calculate the standard deviation of numerical columns\n",
        "df.std(numeric_only=True)"
      ],
      "metadata": {
        "id": "pdIS3-VcDBXD"
      },
      "execution_count": null,
      "outputs": []
    },
    {
      "cell_type": "code",
      "source": [
        "# Calculate the min of numerical columns\n",
        "df.min(numeric_only=True)"
      ],
      "metadata": {
        "id": "wp-Bkp-JDbGR"
      },
      "execution_count": null,
      "outputs": []
    },
    {
      "cell_type": "code",
      "source": [
        "# Calculate the max of numerical columns\n",
        "df.max(numeric_only=True)"
      ],
      "metadata": {
        "id": "6MZnUHggDhLJ"
      },
      "execution_count": null,
      "outputs": []
    },
    {
      "cell_type": "code",
      "source": [
        " df.quantile(0.25, numeric_only=True) # Calculate the 25th percentile for all numerical columns"
      ],
      "metadata": {
        "id": "dE167X6uD6qp"
      },
      "execution_count": null,
      "outputs": []
    },
    {
      "cell_type": "markdown",
      "source": [
        "Task 1.5 Check for missing values in each column."
      ],
      "metadata": {
        "id": "GtUncmlWFSO_"
      }
    },
    {
      "cell_type": "code",
      "source": [
        "# Check for missing values in each column with isnull()\n",
        "missing_values = df.isnull().sum()\n",
        "print(missing_values)"
      ],
      "metadata": {
        "colab": {
          "base_uri": "https://localhost:8080/"
        },
        "id": "z1sXrBOoFVGO",
        "outputId": "01daafaf-a730-4b14-94f9-5550a404bc2b"
      },
      "execution_count": 42,
      "outputs": [
        {
          "output_type": "stream",
          "name": "stdout",
          "text": [
            "Title                        0\n",
            "Release Year                 1\n",
            "Genre                        0\n",
            "Runtime (minutes)            0\n",
            "Budget (millions USD)        0\n",
            "Box Office (millions USD)    0\n",
            "Director                     0\n",
            "Rating (out of 10)           0\n",
            "Country                      0\n",
            "dtype: int64\n"
          ]
        }
      ]
    },
    {
      "cell_type": "code",
      "source": [],
      "metadata": {
        "id": "OFsIpFRZJgQB"
      },
      "execution_count": null,
      "outputs": []
    },
    {
      "cell_type": "code",
      "source": [
        "# Check for missing values in each column with isna()\n",
        "missing_values1 = df.isna().sum()\n",
        "print(missing_values1)"
      ],
      "metadata": {
        "id": "RuypvkE4Jg6n",
        "outputId": "42827912-9ca0-4c4e-9f04-e5861d2dd31b",
        "colab": {
          "base_uri": "https://localhost:8080/"
        }
      },
      "execution_count": 45,
      "outputs": [
        {
          "output_type": "stream",
          "name": "stdout",
          "text": [
            "Title                        0\n",
            "Release Year                 1\n",
            "Genre                        0\n",
            "Runtime (minutes)            0\n",
            "Budget (millions USD)        0\n",
            "Box Office (millions USD)    0\n",
            "Director                     0\n",
            "Rating (out of 10)           0\n",
            "Country                      0\n",
            "dtype: int64\n"
          ]
        }
      ]
    },
    {
      "cell_type": "markdown",
      "source": [
        "**TASK-2 Data Filtering and Selection (Intermediate)**\n",
        "\n",
        "Task2.1 Select all movies released after 2010."
      ],
      "metadata": {
        "id": "hbLu0_7ZF8pA"
      }
    },
    {
      "cell_type": "code",
      "source": [
        "# Select movies released after 2010\n",
        "movies_after_2010 = df[df['Release Year'] > 2010]\n",
        "print(movies_after_2010)"
      ],
      "metadata": {
        "id": "dbb4rmJZHF0E"
      },
      "execution_count": null,
      "outputs": []
    },
    {
      "cell_type": "code",
      "source": [
        "# Print the DataFrame as a table without wrapping\n",
        "print(movies_after_2010.to_string())"
      ],
      "metadata": {
        "id": "YppNiW_JIaoq",
        "outputId": "2c6f2d88-81f5-4630-b82f-9491973d304d",
        "colab": {
          "base_uri": "https://localhost:8080/"
        }
      },
      "execution_count": 38,
      "outputs": [
        {
          "output_type": "stream",
          "name": "stdout",
          "text": [
            "      Title  Release Year      Genre  Runtime (minutes)  Budget (millions USD)  Box Office (millions USD)     Director  Rating (out of 10)    Country\n",
            "5   Movie 6        2016.0     Sci-Fi                135                     35                         45   Director 6                   5  Australia\n",
            "6   Movie 7        2017.0     Horror                115                     20                         30   Director 7                   6    Germany\n",
            "7   Movie 8        2018.0    Romance                130                     30                         40   Director 8                   7     France\n",
            "8   Movie 9        2019.0  Adventure                120                     25                         35   Director 9                   8      Japan\n",
            "9  Movie 10        2020.0    Fantasy                140                     45                         65  Director 10                   9      China\n"
          ]
        }
      ]
    },
    {
      "cell_type": "markdown",
      "source": [
        "# **Task 2.2 Find all movies with a rating higher than 8.0.**"
      ],
      "metadata": {
        "id": "uA6OJq7hIqYR"
      }
    },
    {
      "cell_type": "code",
      "source": [
        "movies_rated_above_8 = df[df['Rating (out of 10)'] > 8.0]\n",
        "print(movies_rated_above_8.to_string())"
      ],
      "metadata": {
        "id": "s20uFHH2IxkC"
      },
      "execution_count": null,
      "outputs": []
    },
    {
      "cell_type": "markdown",
      "source": [
        "# **Task 2.3 Create a subset of movies that are either Action or Comedy genres.**"
      ],
      "metadata": {
        "id": "FuZSoMkZKSV2"
      }
    },
    {
      "cell_type": "code",
      "source": [
        "# Create a subset of movies that are either Action or Comedy genres.\n",
        "subset_movies = df[(df['Genre'] == 'Action') | (df['Genre'] == 'Comedy')]\n",
        "\n",
        "# Display the subset\n",
        "print(subset_movies.to_string())  # Use to_string() for better formatting in output"
      ],
      "metadata": {
        "id": "Zx1W-gCyKVjW",
        "outputId": "811b77f8-5270-4230-8106-6a9aa1f5cbc6",
        "colab": {
          "base_uri": "https://localhost:8080/"
        }
      },
      "execution_count": 46,
      "outputs": [
        {
          "output_type": "stream",
          "name": "stdout",
          "text": [
            "     Title  Release Year   Genre  Runtime (minutes)  Budget (millions USD)  Box Office (millions USD)    Director  Rating (out of 10) Country\n",
            "0  Movie 1        2001.0  Action                120                     21                         31  Director 1                   1   India\n",
            "2  Movie 3        2003.0  Comedy                110                     15                         25  Director 3                   2     USA\n"
          ]
        }
      ]
    },
    {
      "cell_type": "markdown",
      "source": [
        "# **Task 2.4 Identify movies that had a box office greater than twice their budget.**"
      ],
      "metadata": {
        "id": "zociQYyYPEwO"
      }
    },
    {
      "cell_type": "code",
      "source": [
        "# Filter movies with box office greater than twice their budget\n",
        "profitable_movies = df[df['Box Office (millions USD)'] > 2 * df['Budget (millions USD)']]\n",
        "\n",
        "# Display the result\n",
        "print(profitable_movies.to_string())"
      ],
      "metadata": {
        "id": "R4CuV12HPEPF",
        "outputId": "eadf4660-880b-445e-9546-d5cc1af7483c",
        "colab": {
          "base_uri": "https://localhost:8080/"
        }
      },
      "execution_count": 49,
      "outputs": [
        {
          "output_type": "stream",
          "name": "stdout",
          "text": [
            "     Title  Release Year   Genre  Runtime (minutes)  Budget (millions USD)  Box Office (millions USD)    Director  Rating (out of 10)    Country\n",
            "5  Movie 6        2016.0  Sci-Fi                135                     35                        145  Director 6                   5  Australia\n"
          ]
        }
      ]
    },
    {
      "cell_type": "markdown",
      "source": [
        "# **Task2.5 List all movies directed by Christopher Nolan or Steven Spielberg.**"
      ],
      "metadata": {
        "id": "ppn7x6WLQCAb"
      }
    },
    {
      "cell_type": "code",
      "source": [
        "# Filter movies directed by Christopher Nolan or Steven Spielberg\n",
        "director_subset = df[(df['Director'] == 'Christopher Nolan') | (df['Director'] == 'Steven Spielberg')]\n",
        "\n",
        "# Display the result\n",
        "print(director_subset.to_string())"
      ],
      "metadata": {
        "id": "g9UkPLqcQBxU",
        "outputId": "805c602b-87e1-40c5-bea5-47aaa46553b4",
        "colab": {
          "base_uri": "https://localhost:8080/"
        }
      },
      "execution_count": 51,
      "outputs": [
        {
          "output_type": "stream",
          "name": "stdout",
          "text": [
            "     Title  Release Year      Genre  Runtime (minutes)  Budget (millions USD)  Box Office (millions USD)           Director  Rating (out of 10) Country\n",
            "3  Movie 4        2004.0      Drama                140                     40                         60   Steven Spielberg                   3      UK\n",
            "7  Movie 8        2018.0    Romance                130                     30                         40  Christopher Nolan                   7  France\n",
            "8  Movie 9        2019.0  Adventure                120                     25                         35  Christopher Nolan                   8   Japan\n"
          ]
        }
      ]
    },
    {
      "cell_type": "markdown",
      "source": [
        "# Task 3: Data Transformation (Intermediate)\n",
        "\n",
        "**Task 3.1Create a new column 'Profit' that calculates the difference between Box Office and Budget.**"
      ],
      "metadata": {
        "id": "hMZOGV6fQiyf"
      }
    },
    {
      "cell_type": "code",
      "source": [
        "# Create a new column 'Profit'\n",
        "df['Profit'] = df['Box Office (millions USD)'] - df['Budget (millions USD)']\n",
        "\n",
        "# Display the DataFrame with the new column\n",
        "print(df.to_string())  # Using to_string() for better formatting in output"
      ],
      "metadata": {
        "id": "KSboSOtgQpWj",
        "outputId": "8440dd0c-6f66-4fcf-f5c7-c7c1ee83acc2",
        "colab": {
          "base_uri": "https://localhost:8080/"
        }
      },
      "execution_count": 52,
      "outputs": [
        {
          "output_type": "stream",
          "name": "stdout",
          "text": [
            "      Title  Release Year      Genre  Runtime (minutes)  Budget (millions USD)  Box Office (millions USD)           Director  Rating (out of 10)    Country  Profit\n",
            "0   Movie 1        2001.0     Action                120                     21                         31         Director 1                   1      India      10\n",
            "1   Movie 2        2002.0    Fiction                130                     31                         41         Director 2                   1      India      10\n",
            "2   Movie 3        2003.0     Comedy                110                     15                         25         Director 3                   2        USA      10\n",
            "3   Movie 4        2004.0      Drama                140                     40                         60   Steven Spielberg                   3         UK      20\n",
            "4   Movie 5           NaN   Thriller                125                     28                         38         Director 5                   4     Canada      10\n",
            "5   Movie 6        2016.0     Sci-Fi                135                     35                        145         Director 6                   5  Australia     110\n",
            "6   Movie 7        2017.0     Horror                115                     20                         30         Director 7                   6    Germany      10\n",
            "7   Movie 8        2018.0    Romance                130                     30                         40  Christopher Nolan                   7     France      10\n",
            "8   Movie 9        2019.0  Adventure                120                     25                         35  Christopher Nolan                   8      Japan      10\n",
            "9  Movie 10        2020.0    Fantasy                140                     45                         65        Director 10                   9      China      20\n"
          ]
        }
      ]
    },
    {
      "cell_type": "markdown",
      "source": [
        "# Task 3.2 Create a column 'ROI' (Return on Investment) that calculates (Box Office - Budget) / Budget."
      ],
      "metadata": {
        "id": "OLJt-k5fRRQ5"
      }
    },
    {
      "cell_type": "code",
      "source": [
        "# Create a new column 'ROI'\n",
        "df['ROI'] = (df['Box Office (millions USD)'] - df['Budget (millions USD)']) / df['Budget (millions USD)']\n",
        "\n",
        "# Display the DataFrame with the new column\n",
        "print(df.to_string())  # Use to_string() for better formatting in output\n",
        "#df"
      ],
      "metadata": {
        "id": "zMJ5YsGnRVVa",
        "outputId": "c003a61a-1699-43e4-d792-e9297fe890ad",
        "colab": {
          "base_uri": "https://localhost:8080/"
        }
      },
      "execution_count": 55,
      "outputs": [
        {
          "output_type": "stream",
          "name": "stdout",
          "text": [
            "      Title  Release Year      Genre  Runtime (minutes)  Budget (millions USD)  Box Office (millions USD)           Director  Rating (out of 10)    Country  Profit       ROI\n",
            "0   Movie 1        2001.0     Action                120                     21                         31         Director 1                   1      India      10  0.476190\n",
            "1   Movie 2        2002.0    Fiction                130                     31                         41         Director 2                   1      India      10  0.322581\n",
            "2   Movie 3        2003.0     Comedy                110                     15                         25         Director 3                   2        USA      10  0.666667\n",
            "3   Movie 4        2004.0      Drama                140                     40                         60   Steven Spielberg                   3         UK      20  0.500000\n",
            "4   Movie 5           NaN   Thriller                125                     28                         38         Director 5                   4     Canada      10  0.357143\n",
            "5   Movie 6        2016.0     Sci-Fi                135                     35                        145         Director 6                   5  Australia     110  3.142857\n",
            "6   Movie 7        2017.0     Horror                115                     20                         30         Director 7                   6    Germany      10  0.500000\n",
            "7   Movie 8        2018.0    Romance                130                     30                         40  Christopher Nolan                   7     France      10  0.333333\n",
            "8   Movie 9        2019.0  Adventure                120                     25                         35  Christopher Nolan                   8      Japan      10  0.400000\n",
            "9  Movie 10        2020.0    Fantasy                140                     45                         65        Director 10                   9      China      20  0.444444\n"
          ]
        }
      ]
    },
    {
      "cell_type": "markdown",
      "source": [
        "# Task 3.3 Create a categorical column 'Length' that classifies movies as 'Short' (< 90 min), 'Medium' (90-120 min), or 'Long' (> 120 min)."
      ],
      "metadata": {
        "id": "l3697txuR6yn"
      }
    },
    {
      "cell_type": "code",
      "source": [
        "import pandas as pd\n",
        "\n",
        "# Define a function to categorize movie length\n",
        "def categorize_length(runtime):\n",
        "    if runtime < 90:\n",
        "        return 'Short'\n",
        "    elif runtime <= 120:\n",
        "        return 'Medium'\n",
        "    else:\n",
        "        return 'Long'\n",
        "\n",
        "# Apply the function to create the 'Length' column\n",
        "df['Length'] = df['Runtime (minutes)'].apply(categorize_length)\n",
        "\n",
        "# Display the DataFrame with the new column\n",
        "print(df.to_string())  # Use to_string() for better formatting in output"
      ],
      "metadata": {
        "id": "MNTkDAuhS2OX",
        "outputId": "efb8b61c-b881-40e5-88bc-024f78807ac4",
        "colab": {
          "base_uri": "https://localhost:8080/"
        }
      },
      "execution_count": 56,
      "outputs": [
        {
          "output_type": "stream",
          "name": "stdout",
          "text": [
            "      Title  Release Year      Genre  Runtime (minutes)  Budget (millions USD)  Box Office (millions USD)           Director  Rating (out of 10)    Country  Profit       ROI  Length\n",
            "0   Movie 1        2001.0     Action                120                     21                         31         Director 1                   1      India      10  0.476190  Medium\n",
            "1   Movie 2        2002.0    Fiction                130                     31                         41         Director 2                   1      India      10  0.322581    Long\n",
            "2   Movie 3        2003.0     Comedy                110                     15                         25         Director 3                   2        USA      10  0.666667  Medium\n",
            "3   Movie 4        2004.0      Drama                140                     40                         60   Steven Spielberg                   3         UK      20  0.500000    Long\n",
            "4   Movie 5           NaN   Thriller                125                     28                         38         Director 5                   4     Canada      10  0.357143    Long\n",
            "5   Movie 6        2016.0     Sci-Fi                135                     35                        145         Director 6                   5  Australia     110  3.142857    Long\n",
            "6   Movie 7        2017.0     Horror                115                     20                         30         Director 7                   6    Germany      10  0.500000  Medium\n",
            "7   Movie 8        2018.0    Romance                130                     30                         40  Christopher Nolan                   7     France      10  0.333333    Long\n",
            "8   Movie 9        2019.0  Adventure                120                     25                         35  Christopher Nolan                   8      Japan      10  0.400000  Medium\n",
            "9  Movie 10        2020.0    Fantasy                140                     45                         65        Director 10                   9      China      20  0.444444    Long\n"
          ]
        }
      ]
    }
  ]
}