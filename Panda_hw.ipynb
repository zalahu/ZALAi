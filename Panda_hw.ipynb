{
  "nbformat": 4,
  "nbformat_minor": 0,
  "metadata": {
    "colab": {
      "provenance": [],
      "authorship_tag": "ABX9TyN0+mzGxQ/6MFgEdv4Qh2z+",
      "include_colab_link": true
    },
    "kernelspec": {
      "name": "python3",
      "display_name": "Python 3"
    },
    "language_info": {
      "name": "python"
    }
  },
  "cells": [
    {
      "cell_type": "markdown",
      "metadata": {
        "id": "view-in-github",
        "colab_type": "text"
      },
      "source": [
        "<a href=\"https://colab.research.google.com/github/zalahu/ZALAi/blob/main/Panda_hw.ipynb\" target=\"_parent\"><img src=\"https://colab.research.google.com/assets/colab-badge.svg\" alt=\"Open In Colab\"/></a>"
      ]
    },
    {
      "cell_type": "markdown",
      "source": [
        "** Task-1Creating a dataset of Movies with list of 10 and load to Dataframe**"
      ],
      "metadata": {
        "id": "6PAhrb1p6KsP"
      }
    },
    {
      "cell_type": "code",
      "source": [
        "!pip install pandas as pd\n",
        "!pip install numpy as np"
      ],
      "metadata": {
        "id": "PoB60_Q_8_Tu"
      },
      "execution_count": null,
      "outputs": []
    },
    {
      "cell_type": "code",
      "execution_count": 2,
      "metadata": {
        "id": "JQWSxX7I2Xc3",
        "colab": {
          "base_uri": "https://localhost:8080/"
        },
        "outputId": "b32d3db7-8109-42e6-a299-2460ada054d9"
      },
      "outputs": [
        {
          "output_type": "stream",
          "name": "stdout",
          "text": [
            "      Title  Release Year      Genre  Runtime (minutes)  Budget (millions USD)  Box Office (millions USD)           Director  Rating (out of 10)    Country\n",
            "0   Movie 1        1887.0     Action                 87                     21                         31         Director 1                   1      India\n",
            "1   Movie 2        1995.0    Fiction                130                     31                         41         Director 2                   1      India\n",
            "2   Movie 3        2003.0     Comedy                110                     15                         25         Director 3                   2        USA\n",
            "3   Movie 4        2004.0      Drama                140                     40                         60   Steven Spielberg                   3         UK\n",
            "4   Movie 5           NaN   Thriller                125                     28                         38         Director 5                   4     Canada\n",
            "5   Movie 6        2016.0     Sci-Fi                 88                     35                        145         Director 6                   5  Australia\n",
            "6   Movie 7        2017.0     Horror                115                     20                         30         Director 7                   6    Germany\n",
            "7   Movie 8        2018.0    Romance                130                     30                         40  Christopher Nolan                   7     France\n",
            "8   Movie 9        2019.0  Adventure                120                     25                         35  Christopher Nolan                   8      Japan\n",
            "9  Movie 10        2020.0    Fantasy                140                     45                         65        Director 10                   9      China\n"
          ]
        }
      ],
      "source": [
        "import pandas as pd\n",
        "import numpy as np\n",
        "\n",
        "# Define the movie data directly as a list of dictionaries\n",
        "movies = [\n",
        "    {'Title': 'Movie 1', 'Release Year': 1887, 'Genre': 'Action', 'Runtime (minutes)': 87, 'Budget (millions USD)': 21, 'Box Office (millions USD)': 31, 'Director': 'Director 1', 'Rating (out of 10)': 1, 'Country': 'India'},\n",
        "    {'Title': 'Movie 2', 'Release Year': 1995, 'Genre': 'Fiction', 'Runtime (minutes)': 130, 'Budget (millions USD)': 31, 'Box Office (millions USD)': 41, 'Director': 'Director 2', 'Rating (out of 10)': 1, 'Country': 'India'},\n",
        "    {'Title': 'Movie 3', 'Release Year': 2003, 'Genre': 'Comedy', 'Runtime (minutes)': 110, 'Budget (millions USD)': 15, 'Box Office (millions USD)': 25, 'Director': 'Director 3', 'Rating (out of 10)': 2, 'Country': 'USA'},\n",
        "    {'Title': 'Movie 4', 'Release Year': 2004, 'Genre': 'Drama', 'Runtime (minutes)': 140, 'Budget (millions USD)': 40, 'Box Office (millions USD)': 60, 'Director': 'Steven Spielberg', 'Rating (out of 10)': 3, 'Country': 'UK'},\n",
        "    {'Title': 'Movie 5', 'Release Year': None, 'Genre': 'Thriller', 'Runtime (minutes)': 125, 'Budget (millions USD)': 28, 'Box Office (millions USD)': 38, 'Director': 'Director 5', 'Rating (out of 10)': 4, 'Country': 'Canada'},\n",
        "    {'Title': 'Movie 6', 'Release Year': 2016, 'Genre': 'Sci-Fi', 'Runtime (minutes)': 88, 'Budget (millions USD)': 35, 'Box Office (millions USD)': 145, 'Director': 'Director 6', 'Rating (out of 10)': 5, 'Country': 'Australia'},\n",
        "    {'Title': 'Movie 7', 'Release Year': 2017, 'Genre': 'Horror', 'Runtime (minutes)': 115, 'Budget (millions USD)': 20, 'Box Office (millions USD)': 30, 'Director': 'Director 7', 'Rating (out of 10)': 6, 'Country': 'Germany'},\n",
        "    {'Title': 'Movie 8', 'Release Year': 2018, 'Genre': 'Romance', 'Runtime (minutes)': 130, 'Budget (millions USD)': 30, 'Box Office (millions USD)': 40, 'Director': 'Christopher Nolan', 'Rating (out of 10)': 7, 'Country': 'France'},\n",
        "    {'Title': 'Movie 9', 'Release Year': 2019, 'Genre': 'Adventure', 'Runtime (minutes)': 120, 'Budget (millions USD)': 25, 'Box Office (millions USD)': 35, 'Director': 'Christopher Nolan', 'Rating (out of 10)': 8, 'Country': 'Japan'},\n",
        "    {'Title': 'Movie 10', 'Release Year':2020, 'Genre': 'Fantasy', 'Runtime (minutes)': 140, 'Budget (millions USD)': 45, 'Box Office (millions USD)': 65, 'Director': 'Director 10', 'Rating (out of 10)': 9, 'Country': 'China'}\n",
        "]\n",
        "# Create the DataFrame directly from the list of dictionaries\n",
        "df = pd.DataFrame(movies)\n",
        "#printing the dataframe\n",
        "print(df.to_string())\n",
        "\n"
      ]
    },
    {
      "cell_type": "markdown",
      "source": [
        "Task1.2 Display the first 5 rows of the DataFrame."
      ],
      "metadata": {
        "id": "oeo4e_8aAe7v"
      }
    },
    {
      "cell_type": "code",
      "source": [
        "#df.head() gives by default first 5 rows..for other rows use df.head(n)\n",
        "df.head()\n"
      ],
      "metadata": {
        "id": "2H19AbXQAeUQ"
      },
      "execution_count": null,
      "outputs": []
    },
    {
      "cell_type": "markdown",
      "source": [
        "Task 1.3 Show the shape of the DataFrame (rows and columns)."
      ],
      "metadata": {
        "id": "J6mkYVJhBYGO"
      }
    },
    {
      "cell_type": "code",
      "source": [
        "#shape will show the shape with number of rows and columns\n",
        "df.shape"
      ],
      "metadata": {
        "id": "kvskKMF4BfNu"
      },
      "execution_count": null,
      "outputs": []
    },
    {
      "cell_type": "markdown",
      "source": [
        "Task1.4 Generate basic descriptive statistics for the numerical columns."
      ],
      "metadata": {
        "id": "Jz8Y-jFkB2g0"
      }
    },
    {
      "cell_type": "code",
      "source": [
        "# Use the describe() method to generate descriptive statistics for numerical columns\n",
        "df.describe()"
      ],
      "metadata": {
        "id": "3xd7X9twB58t"
      },
      "execution_count": null,
      "outputs": []
    },
    {
      "cell_type": "code",
      "source": [
        "df.count() # to display the count of rows and columns numerical data"
      ],
      "metadata": {
        "id": "G1EDFAZgCN19"
      },
      "execution_count": null,
      "outputs": []
    },
    {
      "cell_type": "code",
      "source": [
        "df.mean(numeric_only=True) # to display the mean of numerical data\n"
      ],
      "metadata": {
        "id": "4hsD_liwCwTt"
      },
      "execution_count": null,
      "outputs": []
    },
    {
      "cell_type": "code",
      "source": [
        "# Calculate the standard deviation of numerical columns\n",
        "df.std(numeric_only=True)"
      ],
      "metadata": {
        "id": "pdIS3-VcDBXD"
      },
      "execution_count": null,
      "outputs": []
    },
    {
      "cell_type": "code",
      "source": [
        "# Calculate the min of numerical columns\n",
        "df.min(numeric_only=True)"
      ],
      "metadata": {
        "id": "wp-Bkp-JDbGR"
      },
      "execution_count": null,
      "outputs": []
    },
    {
      "cell_type": "code",
      "source": [
        "# Calculate the max of numerical columns\n",
        "df.max(numeric_only=True)"
      ],
      "metadata": {
        "id": "6MZnUHggDhLJ"
      },
      "execution_count": null,
      "outputs": []
    },
    {
      "cell_type": "code",
      "source": [
        " df.quantile(0.25, numeric_only=True) # Calculate the 25th percentile for all numerical columns"
      ],
      "metadata": {
        "id": "dE167X6uD6qp"
      },
      "execution_count": null,
      "outputs": []
    },
    {
      "cell_type": "markdown",
      "source": [
        "Task 1.5 Check for missing values in each column."
      ],
      "metadata": {
        "id": "GtUncmlWFSO_"
      }
    },
    {
      "cell_type": "code",
      "source": [
        "# Check for missing values in each column with isnull()\n",
        "missing_values = df.isnull().sum()\n",
        "print(missing_values)"
      ],
      "metadata": {
        "colab": {
          "base_uri": "https://localhost:8080/"
        },
        "id": "z1sXrBOoFVGO",
        "outputId": "01daafaf-a730-4b14-94f9-5550a404bc2b"
      },
      "execution_count": 42,
      "outputs": [
        {
          "output_type": "stream",
          "name": "stdout",
          "text": [
            "Title                        0\n",
            "Release Year                 1\n",
            "Genre                        0\n",
            "Runtime (minutes)            0\n",
            "Budget (millions USD)        0\n",
            "Box Office (millions USD)    0\n",
            "Director                     0\n",
            "Rating (out of 10)           0\n",
            "Country                      0\n",
            "dtype: int64\n"
          ]
        }
      ]
    },
    {
      "cell_type": "code",
      "source": [],
      "metadata": {
        "id": "OFsIpFRZJgQB"
      },
      "execution_count": null,
      "outputs": []
    },
    {
      "cell_type": "code",
      "source": [
        "# Check for missing values in each column with isna()\n",
        "missing_values1 = df.isna().sum()\n",
        "print(missing_values1)"
      ],
      "metadata": {
        "id": "RuypvkE4Jg6n"
      },
      "execution_count": null,
      "outputs": []
    },
    {
      "cell_type": "markdown",
      "source": [
        "**TASK-2 Data Filtering and Selection (Intermediate)**\n",
        "\n",
        "Task2.1 Select all movies released after 2010."
      ],
      "metadata": {
        "id": "hbLu0_7ZF8pA"
      }
    },
    {
      "cell_type": "code",
      "source": [
        "# Select movies released after 2010\n",
        "movies_after_2010 = df[df['Release Year'] > 2010]\n",
        "print(movies_after_2010)"
      ],
      "metadata": {
        "id": "dbb4rmJZHF0E"
      },
      "execution_count": null,
      "outputs": []
    },
    {
      "cell_type": "code",
      "source": [
        "# Print the DataFrame as a table without wrapping\n",
        "print(movies_after_2010.to_string())"
      ],
      "metadata": {
        "id": "YppNiW_JIaoq"
      },
      "execution_count": null,
      "outputs": []
    },
    {
      "cell_type": "markdown",
      "source": [
        "# **Task 2.2 Find all movies with a rating higher than 8.0.**"
      ],
      "metadata": {
        "id": "uA6OJq7hIqYR"
      }
    },
    {
      "cell_type": "code",
      "source": [
        "movies_rated_above_8 = df[df['Rating (out of 10)'] > 8.0]\n",
        "print(movies_rated_above_8.to_string())"
      ],
      "metadata": {
        "id": "s20uFHH2IxkC"
      },
      "execution_count": null,
      "outputs": []
    },
    {
      "cell_type": "markdown",
      "source": [
        "# **Task 2.3 Create a subset of movies that are either Action or Comedy genres.**"
      ],
      "metadata": {
        "id": "FuZSoMkZKSV2"
      }
    },
    {
      "cell_type": "code",
      "source": [
        "# Create a subset of movies that are either Action or Comedy genres.\n",
        "subset_movies = df[(df['Genre'] == 'Action') | (df['Genre'] == 'Comedy')]\n",
        "\n",
        "# Display the subset\n",
        "print(subset_movies.to_string())  # Use to_string() for better formatting in output"
      ],
      "metadata": {
        "id": "Zx1W-gCyKVjW"
      },
      "execution_count": null,
      "outputs": []
    },
    {
      "cell_type": "markdown",
      "source": [
        "# **Task 2.4 Identify movies that had a box office greater than twice their budget.**"
      ],
      "metadata": {
        "id": "zociQYyYPEwO"
      }
    },
    {
      "cell_type": "code",
      "source": [
        "# Filter movies with box office greater than twice their budget\n",
        "profitable_movies = df[df['Box Office (millions USD)'] > 2 * df['Budget (millions USD)']]\n",
        "\n",
        "# Display the result\n",
        "print(profitable_movies.to_string())"
      ],
      "metadata": {
        "id": "R4CuV12HPEPF"
      },
      "execution_count": null,
      "outputs": []
    },
    {
      "cell_type": "markdown",
      "source": [
        "# **Task2.5 List all movies directed by Christopher Nolan or Steven Spielberg.**"
      ],
      "metadata": {
        "id": "ppn7x6WLQCAb"
      }
    },
    {
      "cell_type": "code",
      "source": [
        "# Filter movies directed by Christopher Nolan or Steven Spielberg\n",
        "director_subset = df[(df['Director'] == 'Christopher Nolan') | (df['Director'] == 'Steven Spielberg')]\n",
        "\n",
        "# Display the result\n",
        "print(director_subset.to_string())"
      ],
      "metadata": {
        "id": "g9UkPLqcQBxU"
      },
      "execution_count": null,
      "outputs": []
    },
    {
      "cell_type": "markdown",
      "source": [
        "# Task 3: Data Transformation (Intermediate)\n",
        "\n",
        "**Task 3.1Create a new column 'Profit' that calculates the difference between Box Office and Budget.**"
      ],
      "metadata": {
        "id": "hMZOGV6fQiyf"
      }
    },
    {
      "cell_type": "code",
      "source": [
        "# Create a new column 'Profit'\n",
        "df['Profit'] = df['Box Office (millions USD)'] - df['Budget (millions USD)']\n",
        "\n",
        "# Display the DataFrame with the new column\n",
        "print(df.to_string())  # Using to_string() for better formatting in output"
      ],
      "metadata": {
        "id": "KSboSOtgQpWj"
      },
      "execution_count": null,
      "outputs": []
    },
    {
      "cell_type": "markdown",
      "source": [
        "# Task 3.2 Create a column 'ROI' (Return on Investment) that calculates (Box Office - Budget) / Budget."
      ],
      "metadata": {
        "id": "OLJt-k5fRRQ5"
      }
    },
    {
      "cell_type": "code",
      "source": [
        "# Create a new column 'ROI'\n",
        "df['ROI'] = (df['Box Office (millions USD)'] - df['Budget (millions USD)']) / df['Budget (millions USD)']\n",
        "\n",
        "# Display the DataFrame with the new column\n",
        "print(df.to_string())  # Use to_string() for better formatting in output\n",
        "#df"
      ],
      "metadata": {
        "id": "zMJ5YsGnRVVa"
      },
      "execution_count": null,
      "outputs": []
    },
    {
      "cell_type": "markdown",
      "source": [
        "# Task 3.3 Create a categorical column 'Length' that classifies movies as 'Short' (< 90 min), 'Medium' (90-120 min), or 'Long' (> 120 min)."
      ],
      "metadata": {
        "id": "l3697txuR6yn"
      }
    },
    {
      "cell_type": "code",
      "source": [
        "import pandas as pd\n",
        "\n",
        "# Define a function to categorize movie length\n",
        "def categorize_length(duration):\n",
        "    if duration < 90:\n",
        "        return 'Short'\n",
        "    elif duration <= 120:\n",
        "        return 'Medium'\n",
        "    else:\n",
        "        return 'Long'\n",
        "\n",
        "# Apply the function to create the 'Length' column\n",
        "df['Length'] = df['Runtime (minutes)'].apply(categorize_length)\n",
        "\n",
        "# Display the DataFrame with the new column\n",
        "print(df.to_string())  # Use to_string() for better formatting in output"
      ],
      "metadata": {
        "id": "MNTkDAuhS2OX"
      },
      "execution_count": null,
      "outputs": []
    },
    {
      "cell_type": "markdown",
      "source": [
        "# Task 3.4 Create a column 'Decade' that categorizes movies by the decade they were released in (e.g., 1990s, 2000s)."
      ],
      "metadata": {
        "id": "JBPQzOLdd9Dz"
      }
    },
    {
      "cell_type": "code",
      "source": [
        "import pandas as pd\n",
        "def decade_year (released):\n",
        "    if pd.isnull(released):\n",
        "      return 'Could not calculate'\n",
        "    decade = int((released//10))*10\n",
        "    return str(decade) + 's'\n",
        "\n",
        "df['Decade'] = df['Release Year'].apply(decade_year)\n",
        "print(df.to_string())\n",
        ""
      ],
      "metadata": {
        "id": "3hzs1ZjleBaY"
      },
      "execution_count": null,
      "outputs": []
    },
    {
      "cell_type": "markdown",
      "source": [
        "# Task 3.5 Convert the 'Rating' column to a categorical type with bins: 'Poor' (0-4), 'Average' (4-7), 'Excellent' (7-10)."
      ],
      "metadata": {
        "id": "vXKwx-W5lMee"
      }
    },
    {
      "cell_type": "code",
      "source": [
        "import pandas as pd\n",
        "\n",
        "# Define the bins and labels\n",
        "rating_bins = [0, 4, 7, 10]\n",
        "rating_labels = ['Poor', 'Average', 'Excellent']\n",
        "\n",
        "# Create the categorical column\n",
        "df['Rating Category'] = pd.cut(df['Rating (out of 10)'], bins=rating_bins, labels=rating_labels, include_lowest=True)\n",
        "\n",
        "# Display the updated DataFrame\n",
        "print(df.to_string())"
      ],
      "metadata": {
        "colab": {
          "base_uri": "https://localhost:8080/"
        },
        "id": "5buPLbaMlQnj",
        "outputId": "ccbb164f-dfe9-4526-9d2e-4e3d07a53cd6"
      },
      "execution_count": 82,
      "outputs": [
        {
          "output_type": "stream",
          "name": "stdout",
          "text": [
            "      Title  Release Year      Genre  Runtime (minutes)  Budget (millions USD)  Box Office (millions USD)           Director  Rating (out of 10)    Country              Deacade               Decade Rating Category\n",
            "0   Movie 1        1887.0     Action                 87                     21                         31         Director 1                   1      India                 None                1880s            Poor\n",
            "1   Movie 2        1995.0    Fiction                130                     31                         41         Director 2                   1      India                 None                1990s            Poor\n",
            "2   Movie 3        2003.0     Comedy                110                     15                         25         Director 3                   2        USA                 None                2000s            Poor\n",
            "3   Movie 4        2004.0      Drama                140                     40                         60   Steven Spielberg                   3         UK                 None                2000s            Poor\n",
            "4   Movie 5           NaN   Thriller                125                     28                         38         Director 5                   4     Canada  Could not calculate  Could not calculate            Poor\n",
            "5   Movie 6        2016.0     Sci-Fi                 88                     35                        145         Director 6                   5  Australia                 None                2010s         Average\n",
            "6   Movie 7        2017.0     Horror                115                     20                         30         Director 7                   6    Germany                 None                2010s         Average\n",
            "7   Movie 8        2018.0    Romance                130                     30                         40  Christopher Nolan                   7     France                 None                2010s         Average\n",
            "8   Movie 9        2019.0  Adventure                120                     25                         35  Christopher Nolan                   8      Japan                 None                2010s       Excellent\n",
            "9  Movie 10        2020.0    Fantasy                140                     45                         65        Director 10                   9      China                 None                2020s       Excellent\n"
          ]
        }
      ]
    },
    {
      "cell_type": "markdown",
      "source": [
        "# Task 4: Aggregation and Grouping (Advanced)\n",
        "\n",
        "Task 4.1Calculate the average rating for each genre."
      ],
      "metadata": {
        "id": "2JLE2bPA11bG"
      }
    },
    {
      "cell_type": "code",
      "source": [
        "# Group the data by genre and calculate the average rating\n",
        "average_rating_by_genre = df.groupby('Genre')['Rating (out of 10)'].mean()\n",
        "\n",
        "# Display the results\n",
        "print(average_rating_by_genre)"
      ],
      "metadata": {
        "colab": {
          "base_uri": "https://localhost:8080/"
        },
        "id": "7hQtjPaU1_3z",
        "outputId": "5e5df688-f3bc-41ce-c9ad-25e3e2538b5d"
      },
      "execution_count": 85,
      "outputs": [
        {
          "output_type": "stream",
          "name": "stdout",
          "text": [
            "Genre\n",
            "Action       1.0\n",
            "Adventure    8.0\n",
            "Comedy       2.0\n",
            "Drama        3.0\n",
            "Fantasy      9.0\n",
            "Fiction      1.0\n",
            "Horror       6.0\n",
            "Romance      7.0\n",
            "Sci-Fi       5.0\n",
            "Thriller     4.0\n",
            "Name: Rating (out of 10), dtype: float64\n"
          ]
        }
      ]
    },
    {
      "cell_type": "markdown",
      "source": [
        "# Task 4.2 Find the highest-grossing movie for each director."
      ],
      "metadata": {
        "id": "xKvUidBy2azp"
      }
    },
    {
      "cell_type": "code",
      "source": [
        "# Group by 'Director' and get the index of the maximum 'Box Office' for each group\n",
        "highest_grossing_idx = df.groupby('Director')['Box Office (millions USD)'].idxmax()\n",
        "\n",
        "# Use the indices to select the rows from the original DataFrame\n",
        "highest_grossing_movies = df.loc[highest_grossing_idx]\n",
        "# Sort by 'Box Office (millions USD)' in descending order\n",
        "highest_grossing_movies = highest_grossing_movies.sort_values(by=['Box Office (millions USD)'], ascending=False)\n",
        "\n",
        "\n",
        "# Display the result\n",
        "print(highest_grossing_movies.to_string())  # Using to_string() for better formatting"
      ],
      "metadata": {
        "colab": {
          "base_uri": "https://localhost:8080/"
        },
        "id": "pBdrQYxR2rpd",
        "outputId": "8aa7161e-5638-4b71-d3aa-30300aba8276"
      },
      "execution_count": 90,
      "outputs": [
        {
          "output_type": "stream",
          "name": "stdout",
          "text": [
            "      Title  Release Year     Genre  Runtime (minutes)  Budget (millions USD)  Box Office (millions USD)           Director  Rating (out of 10)    Country\n",
            "5   Movie 6        2016.0    Sci-Fi                 88                     35                        145         Director 6                   5  Australia\n",
            "9  Movie 10        2020.0   Fantasy                140                     45                         65        Director 10                   9      China\n",
            "3   Movie 4        2004.0     Drama                140                     40                         60   Steven Spielberg                   3         UK\n",
            "1   Movie 2        1995.0   Fiction                130                     31                         41         Director 2                   1      India\n",
            "7   Movie 8        2018.0   Romance                130                     30                         40  Christopher Nolan                   7     France\n",
            "4   Movie 5           NaN  Thriller                125                     28                         38         Director 5                   4     Canada\n",
            "0   Movie 1        1887.0    Action                 87                     21                         31         Director 1                   1      India\n",
            "6   Movie 7        2017.0    Horror                115                     20                         30         Director 7                   6    Germany\n",
            "2   Movie 3        2003.0    Comedy                110                     15                         25         Director 3                   2        USA\n"
          ]
        }
      ]
    },
    {
      "cell_type": "markdown",
      "source": [
        "# Task 4.3 Determine the average budget and box office for each decade."
      ],
      "metadata": {
        "id": "iV1jn9n4BuRH"
      }
    },
    {
      "cell_type": "code",
      "source": [
        "\n",
        "import pandas as pd\n",
        "\n",
        "def decade_year(released):\n",
        "    if pd.isnull(released):\n",
        "        return 'Could not calculate'\n",
        "    decade = int((released // 10)) * 10\n",
        "    return str(decade) + 's'\n",
        "\n",
        "df['Decade'] = df['Release Year'].apply(decade_year)\n",
        "print(df.to_string())\n",
        "\n",
        "# Group by 'Decade' and calculate the average budget and box office\n",
        "decade_stats = df.groupby('Decade')[['Budget (millions USD)', 'Box Office (millions USD)']].mean()\n",
        "\n",
        "# Display the results\n",
        "print(decade_stats)"
      ],
      "metadata": {
        "colab": {
          "base_uri": "https://localhost:8080/"
        },
        "id": "-xiqgxq-DSkV",
        "outputId": "54d99f5c-9768-427f-c862-f55429db291f"
      },
      "execution_count": 94,
      "outputs": [
        {
          "output_type": "stream",
          "name": "stdout",
          "text": [
            "      Title  Release Year      Genre  Runtime (minutes)  Budget (millions USD)  Box Office (millions USD)           Director  Rating (out of 10)    Country               Decade\n",
            "0   Movie 1        1887.0     Action                 87                     21                         31         Director 1                   1      India                1880s\n",
            "1   Movie 2        1995.0    Fiction                130                     31                         41         Director 2                   1      India                1990s\n",
            "2   Movie 3        2003.0     Comedy                110                     15                         25         Director 3                   2        USA                2000s\n",
            "3   Movie 4        2004.0      Drama                140                     40                         60   Steven Spielberg                   3         UK                2000s\n",
            "4   Movie 5           NaN   Thriller                125                     28                         38         Director 5                   4     Canada  Could not calculate\n",
            "5   Movie 6        2016.0     Sci-Fi                 88                     35                        145         Director 6                   5  Australia                2010s\n",
            "6   Movie 7        2017.0     Horror                115                     20                         30         Director 7                   6    Germany                2010s\n",
            "7   Movie 8        2018.0    Romance                130                     30                         40  Christopher Nolan                   7     France                2010s\n",
            "8   Movie 9        2019.0  Adventure                120                     25                         35  Christopher Nolan                   8      Japan                2010s\n",
            "9  Movie 10        2020.0    Fantasy                140                     45                         65        Director 10                   9      China                2020s\n",
            "                     Budget (millions USD)  Box Office (millions USD)\n",
            "Decade                                                               \n",
            "1880s                                 21.0                       31.0\n",
            "1990s                                 31.0                       41.0\n",
            "2000s                                 27.5                       42.5\n",
            "2010s                                 27.5                       62.5\n",
            "2020s                                 45.0                       65.0\n",
            "Could not calculate                   28.0                       38.0\n"
          ]
        }
      ]
    },
    {
      "cell_type": "markdown",
      "source": [
        "# Task 4.4 Group movies by their country of origin and calculate the mean rating, total budget, and total box office."
      ],
      "metadata": {
        "id": "iIinw7ZPe056"
      }
    },
    {
      "cell_type": "code",
      "source": [
        "import pandas as pd\n",
        "\n",
        "# Assuming your DataFrame is named 'df'\n",
        "\n",
        "# Group by 'Country' and calculate the desired aggregations\n",
        "country_stats = df.groupby('Country').agg(\n",
        "    Mean_Rating=('Rating (out of 10)', 'mean'),\n",
        "    Total_Budget=('Budget (millions USD)', 'sum'),\n",
        "    Total_Box_Office=('Box Office (millions USD)', 'sum')\n",
        ")\n",
        "\n",
        "# Display the results\n",
        "print(country_stats)"
      ],
      "metadata": {
        "id": "xdd9g_JBe0AC",
        "outputId": "b1fa9e08-ea6f-4ef3-9075-ba384eb3e8fb",
        "colab": {
          "base_uri": "https://localhost:8080/"
        }
      },
      "execution_count": 3,
      "outputs": [
        {
          "output_type": "stream",
          "name": "stdout",
          "text": [
            "           Mean_Rating  Total_Budget  Total_Box_Office\n",
            "Country                                               \n",
            "Australia          5.0            35               145\n",
            "Canada             4.0            28                38\n",
            "China              9.0            45                65\n",
            "France             7.0            30                40\n",
            "Germany            6.0            20                30\n",
            "India              1.0            52                72\n",
            "Japan              8.0            25                35\n",
            "UK                 3.0            40                60\n",
            "USA                2.0            15                25\n"
          ]
        }
      ]
    }
  ]
}